{
 "cells": [
  {
   "cell_type": "code",
   "execution_count": null,
   "metadata": {
    "scrolled": true
   },
   "outputs": [],
   "source": [
    "\"\"\"\n",
    "BOTection - Binary Classifier\n",
    "Created by balahmadi @balahmadi_OX\n",
    "\n",
    "@author: balahmadi - 2020\n",
    "\"\"\"\n",
    "\n",
    "# 4. Binary Classification (Malware Detection) Detect malicious n-flows.\n",
    "#   Train a RF binary classifier to classify n-flows to Malicious or Benign\n",
    "\n",
    "import pandas as pd\n",
    "import numpy as np\n",
    "import math\n",
    "from sklearn.decomposition import PCA\n",
    "import sklearn.metrics as metrics\n",
    "from sklearn.model_selection import cross_val_predict\n",
    "from sklearn.ensemble import RandomForestClassifier as RF\n",
    "from sklearn.preprocessing import scale\n",
    "import dill as pickle \n",
    "from sklearn.model_selection import train_test_split\n",
    "import sys  \n",
    "import os\n",
    "import csv \n",
    "\n",
    "n_flows = [10,15,35,30,25,20,10]\n",
    "\n",
    "for n in n_flows:\n",
    "    \n",
    "    with open(\"./Data/MM_StateTransition/dataset_\" + str(n), \"rb\") as f:\n",
    "        dataset = pickle.load(f)\n",
    "   \n",
    "    dataset.dropna(axis=1, how='any')  \n",
    "    to_drop=[\"Family\",\"Class\",\"filename\"]\n",
    "    y = dataset['Class']\n",
    "    X = dataset.drop(to_drop, axis=1)\n",
    "    col_names=dataset.columns    \n",
    "    X_train, X_test, y_train, y_test = train_test_split( X, y, test_size=0.33, random_state=42, stratify=y)\n",
    "   \n",
    "    X_train=X_train.as_matrix().astype(np.float)\n",
    "    X_test=X_test.as_matrix().astype(np.float)\n",
    "   \n",
    "    # Binarize the output\n",
    "    y_train = pd.factorize(y_train)\n",
    "    y_test = pd.factorize(y_test)\n",
    "   \n",
    "    class_Names=y_test[1]\n",
    "                               \n",
    "    y_train = y_train[0]\n",
    "    y_test = y_test[0]\n",
    "    \n",
    "    print ('-------------- Results: n = ' + str(n) + ' ---------------')\n",
    "    print('Number of malicious samples (training): ' + str(list(y_train).count(0)))\n",
    "    print('Number of benign samples (training): ' + str(list(y_train).count(1)))\n",
    "    print('Number of malicious samples (testing): ' + str(list(y_test).count(0)))\n",
    "    print('Number of benign samples (testing): ' + str(list(y_test).count(1)))\n",
    "    \n",
    "    print ('-------------- Precision - Recall - F1 Score Report ---------------')\n",
    "    classifier = RF(n_estimators=101, max_features=None, class_weight ='balanced')\n",
    "    model = classifier.fit(X_train,y_train)\n",
    "    y_pred = model.predict(X_test)\n",
    "    print (metrics.classification_report(y_test, y_pred, target_names = class_Names , digits=4))\n",
    "\n",
    "    print ('----- Precision - Recall - F1 Score Report (Cross Validation) -----')\n",
    "    # When applying cross-validation\n",
    "    y_pred = cross_val_predict(RF(n_estimators=101, max_features=None, class_weight ='balanced'), X, y, cv=10)\n",
    "    print (metrics.classification_report(y, y_pred, target_names =  class_Names , digits=4))"
   ]
  },
  {
   "cell_type": "code",
   "execution_count": null,
   "metadata": {},
   "outputs": [],
   "source": []
  }
 ],
 "metadata": {
  "kernelspec": {
   "display_name": "Python 2",
   "language": "python",
   "name": "python2"
  },
  "language_info": {
   "codemirror_mode": {
    "name": "ipython",
    "version": 2
   },
   "file_extension": ".py",
   "mimetype": "text/x-python",
   "name": "python",
   "nbconvert_exporter": "python",
   "pygments_lexer": "ipython2",
   "version": "2.7.15"
  }
 },
 "nbformat": 4,
 "nbformat_minor": 2
}
