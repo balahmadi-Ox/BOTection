{
 "cells": [
  {
   "cell_type": "code",
   "execution_count": null,
   "metadata": {},
   "outputs": [],
   "source": [
    "\"\"\"\n",
    "BOTection - Network Flow Reassembly\n",
    "Created by balahmadi @balahmadi_OX\n",
    "\n",
    "@author: balahmadi - 2020\n",
    "\"\"\"\n",
    "#1. Network Flow Reassembly: Convert PCAPs to Bro/Zeek Logs \n",
    "#Prerequisites: Bro/Zeek installed\n",
    "\n",
    "import os\n",
    "directory = os.getcwd()\n",
    "\n",
    "def ensure_dir(file_dir):\n",
    "    if not os.path.exists(file_dir):\n",
    "        try:\n",
    "            print('Attempting to create directory in the path specified...')\n",
    "            os.makedirs(file_dir)\n",
    "            print(\"Directory created successfully...\")\n",
    "            return 1\n",
    "        except:\n",
    "            IOError\n",
    "            print(\"Directory COULD NOT be created in the location specified.\")\n",
    "            sys.exit(0)\n",
    "            return 0\n",
    "    else:\n",
    "        print(\"Directory specified already exists....moving on...\")\n",
    "    return 1\n",
    "\n",
    "\n",
    "def generateLogs(pcap,dirr):\n",
    "    ensure_dir(out + dirr + '/' + pcap)\n",
    "    os.chdir(d)\n",
    "    cmd = \"export PATH=/usr/local/bro/bin:$PATH; bro -r \" + pcap\n",
    "    os.system(cmd)\n",
    "    os.system(\"mv *.log \" +  out + dirr + \"/\" + pcap )\n",
    "    os.chdir(directory)\n",
    "\n",
    "out = directory + '/Data/Processed/'\n",
    "directories = ['Malicious','Benign','Mixed','Malicious_to_inject']\n",
    "for dirr in directories:\n",
    "    d =  directory + '/Data/PCAP/' + dirr\n",
    "    for f in os.listdir(d):\n",
    "        if f.endswith('.pcap'):\n",
    "            generateLogs(f,dirr)\n"
   ]
  }
 ],
 "metadata": {
  "kernelspec": {
   "display_name": "Python 2",
   "language": "python",
   "name": "python2"
  },
  "language_info": {
   "codemirror_mode": {
    "name": "ipython",
    "version": 2
   },
   "file_extension": ".py",
   "mimetype": "text/x-python",
   "name": "python",
   "nbconvert_exporter": "python",
   "pygments_lexer": "ipython2",
   "version": "2.7.15"
  }
 },
 "nbformat": 4,
 "nbformat_minor": 2
}
